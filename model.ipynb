{
 "cells": [
  {
   "cell_type": "code",
   "execution_count": 196,
   "metadata": {},
   "outputs": [],
   "source": [
    "import pickle\n",
    "import pandas as pd\n",
    "import xgboost as xgb\n",
    "from sklearn.model_selection import train_test_split\n",
    "from sklearn.preprocessing import StandardScaler, MinMaxScaler\n",
    "from sklearn.metrics import confusion_matrix, classification_report, f1_score\n",
    "from matplotlib.pylab import rcParams\n"
   ]
  },
  {
   "cell_type": "code",
   "execution_count": 4,
   "metadata": {},
   "outputs": [],
   "source": [
    "with open(\"pickled_table.pkl\", \"rb\") as file:\n",
    "    data = pickle.load(file)"
   ]
  },
  {
   "cell_type": "code",
   "execution_count": 70,
   "metadata": {},
   "outputs": [],
   "source": [
    "class Data_balancing:\n",
    "    def __init__(self, data) -> None:\n",
    "        self.data = data\n",
    "        self.ones = self.data[self.data[self.data.columns[-1]] == 1]\n",
    "        self.zeros = self.data[self.data[self.data.columns[-1]] == 0]    \n",
    "    \n",
    "    def counts(self):\n",
    "        counts = self.data.loc[:,self.data.columns[-1]].value_counts()\n",
    "        return f\"Count of zeros - {counts[0]},\\ncount of ones - {counts[1]}.\"\n",
    "\n",
    "    def balancing(self, counts):\n",
    "        return self.zeros.sample(counts)\n",
    "\n",
    "    def concat_balance(self):\n",
    "        return pd.concat([self.ones, self.balancing(self.ones.shape[0])])"
   ]
  },
  {
   "cell_type": "code",
   "execution_count": 87,
   "metadata": {},
   "outputs": [],
   "source": [
    "b_data = Data_balancing(data).concat_balance().reset_index().drop([\"index\"], axis=1)"
   ]
  },
  {
   "cell_type": "code",
   "execution_count": 105,
   "metadata": {},
   "outputs": [],
   "source": [
    "class Transformation:\n",
    "    def __init__(self, data) -> None:\n",
    "        self.standard = StandardScaler().fit(data)\n",
    "        self.scaling = MinMaxScaler().fit(data)\n",
    "    \n",
    "    def standarization(self, d):\n",
    "        return self.standard.transform(d)\n",
    "\n",
    "    def scal(self, d):\n",
    "        return self.scaling.transform(d)"
   ]
  },
  {
   "cell_type": "code",
   "execution_count": 101,
   "metadata": {},
   "outputs": [],
   "source": [
    "x = b_data.drop(b_data.columns[-1], axis=1)\n",
    "y = b_data[b_data.columns[-1]]"
   ]
  },
  {
   "cell_type": "code",
   "execution_count": 106,
   "metadata": {},
   "outputs": [],
   "source": [
    "x_standarized = Transformation(x).standarization(x)\n",
    "x_scaling = Transformation(x).scal(x)"
   ]
  },
  {
   "cell_type": "code",
   "execution_count": 206,
   "metadata": {},
   "outputs": [],
   "source": [
    "class Split:\n",
    "    def __init__(self, x, y) -> None:\n",
    "        self.x = x\n",
    "        self.y = y\n",
    "    \n",
    "    def splitting(self):\n",
    "        return train_test_split(self.x, self.y, test_size=0.1, random_state=42) "
   ]
  },
  {
   "cell_type": "code",
   "execution_count": 207,
   "metadata": {},
   "outputs": [],
   "source": [
    "train_x, test_x, train_y, test_y = Split(x, y).splitting()\n",
    "st_train_x, st_test_x, st_train_y, st_test_y = Split(x_standarized, y).splitting()\n",
    "sc_train_x, sc_test_x, sc_train_y, sc_test_y = Split(x_scaling, y).splitting()"
   ]
  },
  {
   "cell_type": "code",
   "execution_count": 208,
   "metadata": {},
   "outputs": [],
   "source": [
    "class Basic_model_check:\n",
    "    def __init__(self, x, y) -> None:\n",
    "        self.x = x\n",
    "        self.y = y\n",
    "        self.model = xgb.XGBClassifier()\n",
    "\n",
    "    def training(self):\n",
    "        return self.model.fit(self.x, self.y)\n",
    "\n",
    "    def score(self, test_x, test_y):\n",
    "        return self.training().score(test_x, test_y)\n",
    "\n",
    "    def report(self, x_test, y_test):\n",
    "        pred = self.training().predict(x_test)\n",
    "        return classification_report(y_test, pred), confusion_matrix(y_test, pred)"
   ]
  },
  {
   "cell_type": "code",
   "execution_count": 209,
   "metadata": {},
   "outputs": [],
   "source": [
    "basic = Basic_model_check(train_x, train_y)\n",
    "standard = Basic_model_check(st_train_x, st_train_y)\n",
    "scaled = Basic_model_check(sc_train_x, sc_train_y)"
   ]
  },
  {
   "cell_type": "code",
   "execution_count": 210,
   "metadata": {},
   "outputs": [
    {
     "name": "stdout",
     "output_type": "stream",
     "text": [
      "[[ 7  3]\n",
      " [ 0 12]]\n",
      "[[ 7  3]\n",
      " [ 0 12]]\n",
      "[[ 7  3]\n",
      " [ 0 12]]\n"
     ]
    }
   ],
   "source": [
    "print(basic.report(x_test=test_x, y_test=test_y)[1])\n",
    "print(standard.report(x_test=st_test_x, y_test=st_test_y)[1])\n",
    "print(scaled.report(x_test=sc_test_x, y_test=sc_test_y)[1])\n",
    "#no differances between prepared data, not standarized data will be chosed to further tunning"
   ]
  },
  {
   "cell_type": "code",
   "execution_count": 211,
   "metadata": {},
   "outputs": [],
   "source": [
    "model = xgb.XGBClassifier().fit(train_x, train_y)"
   ]
  },
  {
   "cell_type": "code",
   "execution_count": 212,
   "metadata": {},
   "outputs": [],
   "source": [
    "pred = model.predict(test_x)"
   ]
  },
  {
   "cell_type": "code",
   "execution_count": 202,
   "metadata": {},
   "outputs": [],
   "source": [
    "from sklearn.metrics import roc_auc_score\n",
    "from sklearn.metrics import roc_curve"
   ]
  },
  {
   "cell_type": "code",
   "execution_count": 213,
   "metadata": {},
   "outputs": [
    {
     "data": {
      "image/png": "[encoded data removed]",
      "text/plain": [
       "<Figure size 432x288 with 1 Axes>"
      ]
     },
     "metadata": {
      "needs_background": "light"
     },
     "output_type": "display_data"
    }
   ],
   "source": [
    "xgb.plot_importance(model)\n",
    "plt.tight_layout()\n",
    "plt.show()"
   ]
  },
  {
   "cell_type": "code",
   "execution_count": 214,
   "metadata": {},
   "outputs": [
    {
     "data": {
      "text/plain": [
       "0.85"
      ]
     },
     "execution_count": 214,
     "metadata": {},
     "output_type": "execute_result"
    }
   ],
   "source": [
    "roc_auc_score(test_y, pred)"
   ]
  },
  {
   "cell_type": "code",
   "execution_count": 229,
   "metadata": {},
   "outputs": [
    {
     "data": {
      "image/png": "[encoded data removed]",
      "text/plain": [
       "<Figure size 432x288 with 1 Axes>"
      ]
     },
     "metadata": {},
     "output_type": "display_data"
    }
   ],
   "source": [
    "false_positive_rate, true_positive_rate, thresholds = roc_curve(test_y, pred)\n",
    "\n",
    "plt.style.use(\"ggplot\")\n",
    "plt.plot(false_positive_rate, true_positive_rate)\n",
    "plt.xlabel(\"False positive rate\")\n",
    "plt.ylabel(\"True positive rate\")\n",
    "plt.tight_layout()\n",
    "plt.show()"
   ]
  },
  {
   "cell_type": "code",
   "execution_count": 222,
   "metadata": {},
   "outputs": [
    {
     "data": {
      "image/png": "[encoded data removed]",
      "text/plain": [
       "<Figure size 432x288 with 1 Axes>"
      ]
     },
     "metadata": {
      "needs_background": "light"
     },
     "output_type": "display_data"
    }
   ],
   "source": [
    "from sklearn.metrics import precision_recall_curve\n",
    "\n",
    "precision, recall, thresholds = precision_recall_curve(test_y, pred)\n",
    "\n",
    "plt.plot(recall, precision)\n",
    "plt.xlabel(\"Recall\")\n",
    "plt.ylabel(\"Precision\")\n",
    "plt.grid()\n",
    "plt.tight_layout()\n",
    "plt.show()"
   ]
  }
 ],
 "metadata": {
  "kernelspec": {
   "display_name": "Python 3.9.13 64-bit (windows store)",
   "language": "python",
   "name": "python3"
  },
  "language_info": {
   "codemirror_mode": {
    "name": "ipython",
    "version": 3
   },
   "file_extension": ".py",
   "mimetype": "text/x-python",
   "name": "python",
   "nbconvert_exporter": "python",
   "pygments_lexer": "ipython3",
   "version": "3.9.13"
  },
  "orig_nbformat": 4,
  "vscode": {
   "interpreter": {
    "hash": "a92be3524c0268ddc17f7a9babe5635657e6e68627771ba76bf2b30470d952af"
   }
  }
 },
 "nbformat": 4,
 "nbformat_minor": 2
}
